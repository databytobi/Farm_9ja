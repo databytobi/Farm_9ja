{
 "cells": [
  {
   "cell_type": "code",
   "execution_count": null,
   "id": "8c3814cc",
   "metadata": {},
   "outputs": [
    {
     "name": "stderr",
     "output_type": "stream",
     "text": [
      "c:\\Users\\HP\\Desktop\\project\\Farm_9ja\\.venv\\lib\\site-packages\\tqdm\\auto.py:21: TqdmWarning: IProgress not found. Please update jupyter and ipywidgets. See https://ipywidgets.readthedocs.io/en/stable/user_install.html\n",
      "  from .autonotebook import tqdm as notebook_tqdm\n"
     ]
    }
   ],
   "source": [
    "# %%\n",
    "import unicodedata\n",
    "import re\n",
    "from transformers import M2M100ForConditionalGeneration, M2M100Tokenizer\n",
    "from langchain.embeddings import HuggingFaceEmbeddings\n",
    "from langchain.vectorstores import FAISS\n",
    "from langchain.schema import Document\n",
    "from langchain.text_splitter import RecursiveCharacterTextSplitter\n",
    "from langchain.chains import RetrievalQA\n",
    "from langchain.prompts import PromptTemplate\n",
    "from langchain.tools import DuckDuckGoSearchRun\n",
    "from langchain.agents import initialize_agent, Tool\n",
    "import google.generativeai as genai\n",
    "import torch\n",
    "from dotenv import load_dotenv\n",
    "import os\n",
    "import PyPDF2\n",
    "from transformers import M2M100Tokenizer, M2M100ForConditionalGeneration\n",
    "import sentencepiece as spm\n",
    "from langchain.schema import Document\n",
    "from langchain_text_splitters import RecursiveCharacterTextSplitter\n",
    "from langchain_community.embeddings import HuggingFaceEmbeddings\n",
    "from langchain_community.vectorstores import FAISS\n",
    "from langchain_community.document_loaders import PyPDFLoader\n",
    "\n",
    "from langchain_community.embeddings import HuggingFaceEmbeddings\n",
    "\n",
    "\n"
   ]
  },
  {
   "cell_type": "code",
   "execution_count": 2,
   "id": "dfdd7162",
   "metadata": {},
   "outputs": [
    {
     "name": "stdout",
     "output_type": "stream",
     "text": [
      "Google Key: AIzaS*\n"
     ]
    }
   ],
   "source": [
    "import os\n",
    "from dotenv import load_dotenv\n",
    "\n",
    "# Load environment variables from .env file\n",
    "load_dotenv()\n",
    "\n",
    "# Access your keys\n",
    "\n",
    "google_api_key = os.getenv(\"GOOGLE_API_KEY\")\n",
    "\n",
    "# Load environment variables\n",
    "load_dotenv()\n",
    "\n",
    "# Fetch key from .env\n",
    "GOOGLE_API_KEY = os.getenv(\"GOOGLE_API_KEY\")\n",
    "\n",
    "\n",
    "\n",
    "print(\"Google Key:\", google_api_key[:5] + \"*\")  # just to confirm it's loaded"
   ]
  },
  {
   "cell_type": "code",
   "execution_count": 3,
   "id": "021b19ff",
   "metadata": {},
   "outputs": [],
   "source": [
    "# %%\n",
    "# Normalization Function: preserves diacritics, cleans whitespace\n",
    "def normalize_text(text):\n",
    "    text = unicodedata.normalize('NFC', text)\n",
    "    text = re.sub(r'\\s+', ' ', text).strip()\n",
    "    return text\n"
   ]
  },
  {
   "cell_type": "code",
   "execution_count": 4,
   "id": "e491439d",
   "metadata": {},
   "outputs": [],
   "source": [
    "# Post-processing: remove repeated phrases > max_repeat times\n",
    "def clean_repetitions(text, max_repeat=2):\n",
    "    pattern = r'(\\b\\w+\\b(?: \\b\\w+\\b){0,3})\\s*(?:\\1\\s*){' + str(max_repeat) + ',}'\n",
    "    cleaned_text = re.sub(pattern, r'\\1', text, flags=re.IGNORECASE)\n",
    "    return cleaned_text\n"
   ]
  },
  {
   "cell_type": "code",
   "execution_count": 5,
   "id": "4d91d4c5",
   "metadata": {},
   "outputs": [],
   "source": [
    "# %%\n",
    "# Load HelpMumHQ translation model & tokenizer\n",
    "model_name = \"HelpMumHQ/AI-translator-eng-to-9ja\"\n",
    "tokenizer = M2M100Tokenizer.from_pretrained(model_name)\n",
    "translator = M2M100ForConditionalGeneration.from_pretrained(model_name).to(\"cuda\" if torch.cuda.is_available() else \"cpu\")\n",
    "\n"
   ]
  },
  {
   "cell_type": "code",
   "execution_count": 6,
   "id": "ea196fe0",
   "metadata": {},
   "outputs": [],
   "source": [
    "# Translator function call using HelpMumHQ model\n",
    "def translator_fn(text, src_lang, tgt_lang):\n",
    "    tokenizer.src_lang = src_lang\n",
    "    inputs = tokenizer(text, return_tensors=\"pt\", padding=True).to(translator.device)\n",
    "    generated_tokens = translator.generate(\n",
    "        **inputs,\n",
    "        forced_bos_token_id=tokenizer.get_lang_id(tgt_lang),\n",
    "        max_new_tokens=512\n",
    "    )\n",
    "    translated = tokenizer.batch_decode(generated_tokens, skip_special_tokens=True)[0]\n",
    "    return translated\n"
   ]
  },
  {
   "cell_type": "code",
   "execution_count": 7,
   "id": "89c7ed7c",
   "metadata": {},
   "outputs": [],
   "source": [
    "# Define Gemini LLM wrapper\n",
    "from langchain_google_genai import ChatGoogleGenerativeAI\n",
    "\n",
    "# Use ChatGoogleGenerativeAI as the LLM\n",
    "llm = ChatGoogleGenerativeAI(model=\"gemini-2.0-flash\", temperature=0.0, google_api_key=GOOGLE_API_KEY)"
   ]
  },
  {
   "cell_type": "code",
   "execution_count": 8,
   "id": "e70b11f9",
   "metadata": {},
   "outputs": [],
   "source": [
    "# LLM translator function using prompt-based translation\n",
    "from langchain_core.messages import HumanMessage\n",
    "\n",
    "def llm_translate(text, src_lang, tgt_lang):\n",
    "    prompt_translate = f\"Translate this text from {supported_langs.get(src_lang, src_lang)} to {supported_langs.get(tgt_lang, tgt_lang)}:\\n\\n{text}\"\n",
    "    # Call llm with HumanMessage\n",
    "    response = llm([HumanMessage(content=prompt_translate)])\n",
    "    return response.content\n",
    "\n",
    "# %%\n",
    "# Translation with fallback to LLM if output is missing or repetitive\n",
    "def translate_with_fallback(text, src_lang, tgt_lang):\n",
    "    normalized_text = normalize_text(text)\n",
    "\n",
    "    try:\n",
    "        translated = translator_fn(normalized_text, src_lang, tgt_lang)\n",
    "        cleaned = clean_repetitions(translated)\n",
    "\n",
    "        if len(cleaned.strip()) < 10 or cleaned == translated:\n",
    "            # Fallback to LLM if output too short or repetitive\n",
    "            fallback = llm_translate(normalized_text, src_lang, tgt_lang)\n",
    "            return fallback\n",
    "        else:\n",
    "            return cleaned\n",
    "    except Exception as e:\n",
    "        # On error fallback to LLM\n",
    "        return llm_translate(normalized_text, src_lang, tgt_lang)"
   ]
  },
  {
   "cell_type": "code",
   "execution_count": null,
   "id": "b0052b1e",
   "metadata": {},
   "outputs": [
    {
     "name": "stdout",
     "output_type": "stream",
     "text": [
      "✅ Created 9 embeddings from 9 chunks\n"
     ]
    }
   ],
   "source": [
    "\n",
    "\n",
    "# Step 1: Load PDF\n",
    "pdf_path = \"data/best_practices_for_treating_crop_disease1.pdf\"\n",
    "loader = PyPDFLoader(pdf_path)\n",
    "documents = loader.load()\n",
    "\n",
    "# Step 2: Split PDF into chunks\n",
    "text_splitter = RecursiveCharacterTextSplitter(chunk_size=500, chunk_overlap=50)\n",
    "docs = text_splitter.split_documents(documents)\n",
    "\n",
    "# Step 3: Extract only the text content\n",
    "texts = [doc.page_content for doc in docs]\n",
    "\n",
    "# Filter out non-string and empty entries\n",
    "texts = [t for t in texts if isinstance(t, str) and t.strip()]\n",
    "\n",
    "# Step 4: Initialize embeddings\n",
    "embedding_model = HuggingFaceEmbeddings(model_name=\"sentence-transformers/all-MiniLM-L6-v2\")\n",
    "\n",
    "# Step 5: Create embeddings for the texts\n",
    "embeddings = embedding_model.embed_documents(texts)\n",
    "vectorstore = FAISS.from_texts(texts, embedding_model)\n",
    "retriever = vectorstore.as_retriever(search_type=\"similarity\", search_kwargs={\"k\":3})\n",
    "\n",
    "print(f\"✅ Created {len(embeddings)} embeddings from {len(texts)} chunks\")"
   ]
  },
  {
   "cell_type": "code",
   "execution_count": 16,
   "id": "06516ec2",
   "metadata": {},
   "outputs": [],
   "source": [
    "# Prompt template for RAG answering\n",
    "prompt_template = \"\"\"\n",
    "You are a friendly expert agricultural assistant for smallholder farmers.\n",
    "\n",
    "Use the following context to answer the question comprehensively, clearly, and with practical advice.\n",
    "\n",
    "Context:\n",
    "\n",
    "{context}\n",
    "\n",
    "Question:\n",
    "{question}\n",
    "\n",
    "Instructions:\n",
    "- Use simple, non-technical language.\n",
    "- Provide actionable tips farmers can immediately apply.\n",
    "- Explain terms if complex vocabulary is necessary.\n",
    "- If unsure, honestly say you do not know.\n",
    "\n",
    "Answer:\n",
    "\"\"\"\n",
    "\n",
    "prompt = PromptTemplate(template=prompt_template, input_variables=[\"context\", \"question\"])\n",
    "\n",
    "qa_chain = RetrievalQA.from_chain_type(\n",
    "    llm=llm, retriever=retriever, chain_type=\"stuff\",\n",
    "    return_source_documents=True, chain_type_kwargs={\"prompt\": prompt}\n",
    ")"
   ]
  },
  {
   "cell_type": "code",
   "execution_count": 17,
   "id": "5d287631",
   "metadata": {},
   "outputs": [],
   "source": [
    "# DuckDuckGo search fallback tool\n",
    "from duckduckgo_search import DDGS\n",
    "ddg_search = DuckDuckGoSearchRun()\n",
    "tools = [Tool(name=\"DuckDuckGo Search\", func=ddg_search.run, description=\"Web search for farming topics\")]\n"
   ]
  },
  {
   "cell_type": "code",
   "execution_count": 18,
   "id": "7c0efea0",
   "metadata": {},
   "outputs": [
    {
     "name": "stderr",
     "output_type": "stream",
     "text": [
      "C:\\Users\\HP\\AppData\\Local\\Temp\\ipykernel_6876\\3075973003.py:1: LangChainDeprecationWarning: LangChain agents will continue to be supported, but it is recommended for new use cases to be built with LangGraph. LangGraph offers a more flexible and full-featured framework for building agents, including support for tool-calling, persistence of state, and human-in-the-loop workflows. For details, refer to the `LangGraph documentation <https://langchain-ai.github.io/langgraph/>`_ as well as guides for `Migrating from AgentExecutor <https://python.langchain.com/docs/how_to/migrate_agent/>`_ and LangGraph's `Pre-built ReAct agent <https://langchain-ai.github.io/langgraph/how-tos/create-react-agent/>`_.\n",
      "  agent = initialize_agent(tools, llm, agent=\"zero-shot-react-description\", verbose=True)\n"
     ]
    }
   ],
   "source": [
    "agent = initialize_agent(tools, llm, agent=\"zero-shot-react-description\", verbose=True)\n",
    "\n",
    "# %%\n",
    "# Supported language codes\n",
    "supported_langs = {\n",
    "    'yo': 'yoruba',\n",
    "    'ig': 'igbo',\n",
    "    'ha': 'hausa',\n",
    "    'en': 'english'\n",
    "}\n"
   ]
  },
  {
   "cell_type": "code",
   "execution_count": 19,
   "id": "13ff65ed",
   "metadata": {},
   "outputs": [],
   "source": [
    "# Final function answering questions with translation, RAG, and fallback logic\n",
    "def answer_question(user_question, user_lang):\n",
    "    user_lang = user_lang if user_lang in supported_langs else 'en'\n",
    "\n",
    "    # Translate question to English if needed\n",
    "    if user_lang != 'en':\n",
    "        query_en = translate_with_fallback(user_question, user_lang, 'en')\n",
    "    else:\n",
    "        query_en = user_question\n",
    "\n",
    "    # Retrieve and generate answer\n",
    "    result = qa_chain.invoke({\"query\": query_en})\n",
    "    rag_answer = result['result']\n",
    "\n",
    "    # Fallback to web search if answer is poor\n",
    "    if len(rag_answer.strip()) < 10 or \"I don't know\" in rag_answer.lower():\n",
    "        rag_answer = agent.run(query_en)\n",
    "\n",
    "    # Translate answer back to user language if needed\n",
    "    if user_lang != 'en':\n",
    "        rag_answer = translate_with_fallback(rag_answer, 'en', user_lang)\n",
    "\n",
    "    return rag_answer\n"
   ]
  },
  {
   "cell_type": "code",
   "execution_count": 20,
   "id": "0d221578",
   "metadata": {},
   "outputs": [
    {
     "name": "stdout",
     "output_type": "stream",
     "text": [
      "Supported languages: yo (Yoruba), ig (Igbo), ha (Hausa), en (English)\n"
     ]
    },
    {
     "name": "stderr",
     "output_type": "stream",
     "text": [
      "C:\\Users\\HP\\AppData\\Local\\Temp\\ipykernel_6876\\1065660348.py:7: LangChainDeprecationWarning: The method `BaseChatModel.__call__` was deprecated in langchain-core 0.1.7 and will be removed in 1.0. Use :meth:`~invoke` instead.\n",
      "  response = llm([HumanMessage(content=prompt_translate)])\n"
     ]
    },
    {
     "name": "stdout",
     "output_type": "stream",
     "text": [
      "\n",
      "Answer:\n",
      " Dáadáa, ṣe o fẹ́ mọ bí a ṣe lè mú kí àwọn irúgbìn rẹ ní ìlera tí wọn kò sì ní àrùn? Ìbéèrè tó dára! Dídá àwọn àrùn dúró rọrùn ju gbígbìyànjú láti wo wọn sàn lẹ́yìn náà. Èyí ni bí o ṣe lè ṣe é:\n",
      "\n",
      "**1. Mọ Ohun Tí O Ń Bá Ṣe:**\n",
      "\n",
      "*   **Jẹ́ Aṣọ́jú Irúgbìn:** Kí o tó ṣe ohunkóhun, wo àwọn irúgbìn rẹ dáadáa. Ṣé àwọn àmì, ìrẹ̀wẹ̀sì, tàbí àwọn ohun àjèjì mìíràn ń ṣẹlẹ̀? Gbìyànjú láti mọ *ìdí* tí ó fi ń ṣẹlẹ̀. Ṣé àrùn ni, tàbí ó lè jẹ́ ohun mìíràn, bíi àìtó omi tàbí oúnjẹ? Mímọ ìyàtọ̀ ṣe pàtàkì!\n",
      "*   Ronú nípa rẹ̀ bí èyí: *Àmì* dà bí rírí ọ̀daràn gangan (àrùn fúnra rẹ̀, bíi imú tàbí bakitéríà). *Àmì àìsàn* dà bí rírí ìpalára tí ọ̀daràn náà fà (bíi irúgbìn tí ó ń rẹ̀wẹ̀sì).\n",
      "*   **Bí o kò bá dájú, béèrè fún ìrànlọ́wọ́!** Ọ́fíìsì ìtẹ́lọ́rùn àgbẹ̀ ti àdúgbò rẹ tàbí àgbẹ̀ kan tí ó ní ìmọ̀ lè ràn ọ́ lọ́wọ́ láti mọ ìṣòro náà.\n",
      "\n",
      "**2. Mú Kí Àwọn Nǹkan Mọ́:**\n",
      "\n",
      "*   **Mọ́ Lẹ́yìn Ìkórè:** Yọ àwọn ẹ̀yà irúgbìn àtijọ́ (ewé, igi, èso) lẹ́yìn tí o bá kórè. Àwọn wọ̀nyí lè jẹ́ ibi tí àwọn àrùn ti ń pọ̀ sí i.\n",
      "*   **Àkókò Irinṣẹ́:** Mọ́ àwọn irinṣẹ́ rẹ (ọkọ̀, àwọn ohun ìrékọjá, bẹ́ẹ̀ bẹ́ẹ̀ lọ) déédé. O kò fẹ́ tan àwọn àrùn láti irúgbìn kan sí òmíràn. Ọṣẹ́ àti omi ṣiṣẹ́ dáadáa, tàbí o lè lo ojútùú bílíìkì tí a fọwọ́ rọ́.\n",
      "*   **Ìṣàkóso Èpò:** Yọ àwọn èpò kúrò! Àwọn èpò lè ní àwọn àrùn àti kòkòrò tí ó lè kọlu àwọn irúgbìn rẹ.\n",
      "\n",
      "**3. Gbìn Ọgbọ́n:**\n",
      "\n",
      "*   **Fún Àwọn Irúgbìn Ní Ààyè:** Má ṣe gbìn àwọn irúgbìn rẹ súnmọ́ ara wọn jù. Ìṣàn afẹ́fẹ́ tó dára ń rànlọ́wọ́ láti dènà àwọn àrùn láti tàn kálẹ̀.\n",
      "*   **Yan Ọgbọ́n:** Bí ó bá ṣeé ṣe, gbìn àwọn oríṣi tí a mọ̀ pé wọ́n lódi sí àwọn àrùn tí ó wọ́pọ̀ ní àgbègbè rẹ.\n",
      "*   **Ìbẹ̀rẹ̀ Ìlera:** Ronú nípa bíbójútó àwọn irúgbìn pẹ̀lú omi gbígbóná kí o tó gbìn. Èyí lè pa àwọn ohun alààyè tí ń fa àrùn tí ó lè máa fara pa mọ́ lórí ilẹ̀ irúgbìn náà.\n",
      "*   **Ilẹ̀ Tó Dára:** Ilẹ̀ tó dára ń yọrí sí àwọn irúgbìn tó ní ìlera. Rí i dájú pé ilẹ̀ rẹ ní àwọn oúnjẹ tó tọ́ tí ó sì gbẹ dáadáa.\n",
      "\n",
      "**4. Bomirin Ọgbọ́n:**\n",
      "\n",
      "*   **Yẹra fún Bíbomi Lórí:** Bí ó bá ṣeé ṣe, bomirin ní ìpìlẹ̀ àwọn irúgbìn dípò lílo àwọn ohun ìfọ́nká omi lórí. Àwọn ewé tí ó tutù jẹ́ ìkésíni fún àrùn.\n",
      "*   **Bomirin Ní Òwúrọ̀:** Bí o bá lo ìbomirin lórí, ṣe é ní òwúrọ̀ kí àwọn ewé lè ní àkókò láti gbẹ ní ọ̀sán.\n",
      "\n",
      "**5. Ronú nípa Àwọn Ọgbọ́n Ìṣẹ̀dá àti Ìpilẹ̀ṣẹ̀**\n",
      "\n",
      "*   **Gbìn ọ̀pọ̀lọpọ̀ oríṣi:** Gbígbìn àwọn oríṣi irúgbìn kan náà lè rànlọ́wọ́ láti dènà àrùn láti pa gbogbo ìkórè rẹ run.\n",
      "\n",
      "**Àkíyèsí Pàtàkì:** Èyí jẹ́ ìtọ́sọ́nà gbogbogbò. Ọ̀nà tí ó dára jùlọ láti dènà àwọn àrùn irúgbìn sinmi lórí àwọn irúgbìn pàtó tí o ń gbìn àti àwọn ipò ní àgbègbè rẹ. Ṣe ìwádìí rẹ nígbà gbogbo kí o sì mú àwọn ìmọ̀ràn wọ̀nyí bá ipò rẹ mu.\n"
     ]
    }
   ],
   "source": [
    "# Example interactive usage\n",
    "print(\"Supported languages: yo (Yoruba), ig (Igbo), ha (Hausa), en (English)\")\n",
    "user_lang_code = input(\"Enter language code: \").strip().lower()\n",
    "user_question = input(\"Enter your question: \").strip()\n",
    "\n",
    "final_answer = answer_question(user_question, user_lang_code)\n",
    "print(\"\\nAnswer:\\n\", final_answer)"
   ]
  },
  {
   "cell_type": "code",
   "execution_count": 21,
   "id": "23663794",
   "metadata": {},
   "outputs": [
    {
     "name": "stdout",
     "output_type": "stream",
     "text": [
      "Supported languages: yo (Yoruba), ig (Igbo), ha (Hausa), en (English)\n",
      "\n",
      "Answer:\n",
      " Okay, this is a longer translation, so I'll do my best to capture the meaning and tone in Igbo. It's important to note that Igbo, like many languages, has regional variations, and the best translation might depend on the specific dialect. I'll aim for a generally understandable version.\n",
      "\n",
      "**Igbo Translation:**\n",
      "\n",
      "Ọ dị mma, aghọtara m na ị na-ajụ \"Gịnị mere m ga-eji chọọ...?\" mana ị kwughachiri ya ọtụtụ ugboro! Ka m wee nye gị azịza kacha mma, ọ dị mkpa ka m mara ihe ị na-ajụ. Agbanyeghị, dabere na ihe ọmụma m nwere gbasara ịkọ osikapa, echere m na ị nwere ike na-ajụ: **\"Gịnị mere m ga-eji chọọ ịgbaso ndụmọdụ gbasara omenala ịkọ osikapa, ịdị ọcha, na njikwa ọrịa osikapa (Rice Blast)?\"** Ọ bụrụ na ọ bụ ya, lee ihe mere ị ga-eji chọọ ime ihe ndị ahụ:\n",
      "\n",
      "*   **Osisi Dị Mma, Owuwe Ihe Ubi Ka Ukwuu:** Chee echiche banyere ya otu a: osisi dị mma bụ osisi nwere obi ụtọ, osisi nwere obi ụtọ na-enyekwa gị osikapa karịa! Ịgbara mmiri nke ọma (mmiri ọgwụ) na inye nri (fatịlaịza) na-enye osikapa gị ike ọ dị mkpa iji too nke ọma ma mee ka mkpụrụ osikapa dị mma.\n",
      "\n",
      "*   **Ndụmọdụ Ime Ihe:** Gbaa mbọ hụ na ala gị dị larịị ka mmiri wee gbasaa n'otu aka ahụ. Nke a na-enyere osisi gị niile aka inweta mmiri zuru oke.\n",
      "\n",
      "*   **Ịchekwa Ego na Ọgwụ:** Iji ọgwụ (dị ka fatịlaịza na ọgwụ na-egbu ero) naanị mgbe ị chọrọ ha n'ezie na-azọpụta gị ego. Ọzọkwa, ọ ka mma maka gburugburu ebe obibi na ahụike gị!\n",
      "\n",
      "*   **Ndụmọdụ Ime Ihe:** Tupu ị fesa ọgwụ ọ bụla, jee ije n'ubi gị wee lee osisi gị anya nke ọma. Ị na-ahụ ihe ịrịba ama nke ọrịa? Ọ bụrụ na ọ bụghị, kwụsị ịfesa.\n",
      "\n",
      "*   **Ịlụso Ọrịa Osikapa (Rice Blast) Ọgụ (ọrịa a na-ahụkarị):** Ọrịa osikapa (Rice Blast) nwere ike ibibi ihe ubi gị niile ma ọ bụrụ na ị kpachaghị anya. Ndụmọdụ m nwere bụ maka igbochi ya ma ọ bụ ịkwụsị ya ịgbasa.\n",
      "\n",
      "*   **Ndụmọdụ Ime Ihe:** Bido na mkpụrụ dị mma! Mkpụrụ ndị enwetara asambodo na-enweghị nje na-adị ka inye osisi osikapa gị mmalite ahụike na ndụ. Ọ dị obere ka ha ga-arịa ọrịa.\n",
      "\n",
      "*   **Osisi Sịrị Ike Na-alụso Ọrịa Ọgụ:** Iji ụdị osikapa na-eguzogide ọrịa dị ka M-210 dị ka inye osisi osikapa gị ihe mkpuchi megide ọrịa. Ha na-aka mma n'ịlụso ọrịa osikapa (Rice Blast) ọgụ.\n",
      "\n",
      "*   **Ndụmọdụ Ime Ihe:** Gwa onye ọrụ ugbo gị gbasara ụdị osikapa kacha mma maka mpaghara gị ma na-eguzogide ọrịa ndị a na-ahụkarị.\n",
      "\n",
      "*   **Ọrịa Dị Obere, Nchegbu Dị Obere:** Site n'ịgbaso ndụmọdụ ndị a, ị ga-enwe ọrịa dị obere n'ubi gị, nke pụtara nchegbu dị obere maka gị! Ị nwere ike itinye oge karịa n'ihe ndị ọzọ dị mkpa.\n",
      "\n",
      "**Na nkenke, ịgbaso omume ndị a na-enyere gị aka ịkọ osikapa karịa, chekwaa ego, ma chebe ihe ubi gị pụọ n'ọrịa. Ọ bụ maka ịbụ onye ọrụ ugbo nwere ọgụgụ isi na nke na-aga nke ọma!**\n",
      "\n",
      "Ọ bụrụ na m echeghị nke ọma ihe ị na-ajụ, biko gwa m ihe ị bu n'uche site na \"Gịnị mere m ga-eji chọọ...?\" M ga-eme ike m niile iji nye gị azịza bara uru.\n",
      "\n",
      "**Key Improvements and Explanations:**\n",
      "\n",
      "*   **\"Gịnị mere m ga-eji chọọ...?\"** This is the most direct translation of \"Why do I wanna...?\"  It captures the informal tone.\n",
      "*   **\"Rice Blast\"**: I kept \"Rice Blast\" in English because it's a specific technical term that might not have a direct, widely understood Igbo equivalent.  Using the English term is common in agricultural contexts.  If you need a more descriptive Igbo phrase, it would be something like \"Ọrịa na-ebibi osikapa\" (disease that destroys rice).\n",
      "*   **\"Action Tip\"**: Translated as \"Ndụmọdụ Ime Ihe\" (Advice for Doing Something).\n",
      "*   **Emphasis:** I used bolding to maintain the emphasis from the original English.\n",
      "*   **Tone:** I tried to maintain the friendly and helpful tone of the original.\n",
      "*   **Agricultural Terms:** I used common Igbo terms related to farming where possible.\n",
      "*   **Local Agricultural Extension Officer:** Translated as \"onye ọrụ ugbo gị\" (your agricultural worker).  This is a general term, but it conveys the meaning.\n",
      "\n",
      "**Important Considerations:**\n",
      "\n",
      "*   **Dialect:** As mentioned, Igbo has many dialects. This translation is intended to be generally understandable, but a speaker of a specific dialect might prefer slightly different wording.\n",
      "*   **Context:** The best translation always depends on the specific context. If you're using this in a formal setting, you might need to adjust the language to be more formal.\n",
      "*   **Review:** It's always best to have a native Igbo speaker review the translation to ensure accuracy and naturalness.\n",
      "\n",
      "This translation should be a good starting point.  Good luck!\n"
     ]
    }
   ],
   "source": [
    "\n",
    "# Example interactive usage\n",
    "print(\"Supported languages: yo (Yoruba), ig (Igbo), ha (Hausa), en (English)\")\n",
    "user_lang_code = input(\"Enter language code: \").strip().lower()\n",
    "user_question = input(\"Enter your question: \").strip()\n",
    "\n",
    "final_answer = answer_question(user_question, user_lang_code)\n",
    "print(\"\\nAnswer:\\n\", final_answer)"
   ]
  },
  {
   "cell_type": "code",
   "execution_count": 22,
   "id": "08f19acf",
   "metadata": {},
   "outputs": [
    {
     "name": "stdout",
     "output_type": "stream",
     "text": [
      "Supported languages: yo (Yoruba), ig (Igbo), ha (Hausa), en (English)\n",
      "\n",
      "Answer:\n",
      " Okay, to, kana so ka san yadda za a kare amfanin gona daga cututtuka? Wannan tambaya ce mai kyau! Kare amfanin gona shine mabuɗin samun girbi mai kyau. Ga wasu shawarwari masu amfani da za ka iya amfani da su nan da nan:\n",
      "\n",
      "**1. Ka San Abin da Kake Fuskanta:**\n",
      "\n",
      "*   **Ka gano abin da ke damun:** Kafin ka yi komai, ka yi ƙoƙarin fahimtar abin da ke haifar da matsalar. Shin akwai ɗigo-ɗigo a kan ganyayyaki? Shin tsire-tsire suna lalacewa? Shin dukan gonar ne ko wasu tsire-tsire kaɗan ne kawai? Sanin *abin* da matsalar take zai taimaka maka wajen zaɓar mafita mai kyau. Duba tsire-tsirenka sosai. Shin kana ganin ainihin ƙwaro ko ƙura (alamar *cutar*), ko kuma kawai martanin shukar ne ga cutar (alamar *sakamakon cutar*)?\n",
      "*   **Shin cuta ce ko wani abu dabam?** Wani lokaci, matsaloli ba cututtuka ba ne kwata-kwata. Wataƙila tsire-tsirenka ba sa samun isasshen ruwa ko abubuwan gina jiki. Ko kuma wataƙila yanayin yana da zafi sosai ko sanyi sosai. Idan ba ka da tabbacin, ka nemi taimako daga jami'in fadakarwa na gona a yankinka. Za su iya taimaka maka wajen gano abin da ke faruwa.\n",
      "\n",
      "**2. Rigakafi Shine Mabuɗi:**\n",
      "\n",
      "*   **Fara da iri masu lafiya:** Idan zai yiwu, yi amfani da iri waɗanda aka tabbatar ba su da cuta. Wannan yana ba amfanin gonarka farawa mai kyau.\n",
      "*   **Ka kiyaye gonarka da tsabta:** Cire duk wani tsohon shara na shuka (ganyayyaki, mai tushe, da sauransu) bayan girbi. Waɗannan na iya ɓoye cututtuka waɗanda za su kai hari ga amfanin gonarka na gaba.\n",
      "*   **Ka sarrafa ciyawa:** Ciyawa kuma na iya ɗaukar cututtuka, don haka ka kiyaye su ƙarƙashin iko.\n",
      "*   **Ka tsabtace kayan aikin ka:** Ka rika kashe ƙwayoyin cuta a kayan aikin ka da kayan aiki akai-akai, musamman bayan yin aiki a gona mai tsire-tsire masu cuta. Za ka iya amfani da sauƙaƙan maganin bleach (ƙaramin adadin bleach da aka haɗa da ruwa).\n",
      "*   **Tsafta mai kyau:** Tabbatar ka shuka amfanin gonarka da isasshen sarari a tsakaninsu. Wannan yana ba da damar samun iska mai kyau, wanda zai iya taimakawa wajen hana cututtuka yaduwa.\n",
      "\n",
      "**3. Dabaru na Musamman (musamman ga Shinkafa, tunda an ambata):**\n",
      "\n",
      "*   **Don Cutar Rice Blast:** Idan kana noman shinkafa, ka san da cutar rice blast, cuta ce ta gama gari.\n",
      "    *   Yi amfani da nau'ikan shinkafa waɗanda ke da juriya ga cutar blast (kamar M-210, idan akwai a yankinka).\n",
      "    *   Tabbatar cewa gonar shinkafarka tana da kyau kuma an daidaita ta.\n",
      "    *   Yi amfani da magungunan kashe ƙwari kawai idan dole ne, kuma ka bi umarnin a hankali.\n",
      "\n",
      "**4. Hanyoyi na Halitta (Kula da Jiki):**\n",
      "\n",
      "*   **Jiyya Iri da Ruwan Zafi:** Jiƙa iri a cikin ruwan zafi (a takamaiman zafin jiki na takamaiman lokaci - ka tambayi jami'in fadakarwa don cikakkun bayanai!) na iya kashe wasu ƙwayoyin cuta.\n",
      "*   **Solarization na Ƙasa:** Rufe ƙasarka da filastik mai haske a lokacin mafi zafi na shekara na iya zafi ƙasa kuma ya kashe wasu ƙwayoyin cuta.\n",
      "\n",
      "**Muhimman Tunatarwa:**\n",
      "\n",
      "*   **Ka Nemi Taimako:** Kada ka ji tsoron neman taimako daga jami'in fadakarwa na gona a yankinka. Suna nan don su taimaka maka!\n",
      "*   **Ka Yi Hattara da Kemikal:** Idan ka yi amfani da kowane kemikal (kamar magungunan kashe ƙwari), koyaushe ka bi umarnin a hankali. Sanya tufafi masu kariya kuma ka guji fesa a ranakun da iska ke kaɗawa.\n",
      "*   **Ka Kula da Amfanin Gonarka Akai-akai:** Da zaran ka gano matsala, da sauƙi zai kasance a gyara ta.\n",
      "\n",
      "Ta hanyar bin waɗannan shawarwari, za ka iya rage haɗarin cututtuka a cikin amfanin gonarka sosai kuma ka inganta girbin ka. Sa'a!\n"
     ]
    }
   ],
   "source": [
    "\n",
    "# Example interactive usage\n",
    "print(\"Supported languages: yo (Yoruba), ig (Igbo), ha (Hausa), en (English)\")\n",
    "user_lang_code = input(\"Enter language code: \").strip().lower()\n",
    "user_question = input(\"Enter your question: \").strip()\n",
    "\n",
    "final_answer = answer_question(user_question, user_lang_code)\n",
    "print(\"\\nAnswer:\\n\", final_answer)"
   ]
  },
  {
   "cell_type": "code",
   "execution_count": null,
   "id": "32dcddf6",
   "metadata": {},
   "outputs": [],
   "source": []
  }
 ],
 "metadata": {
  "kernelspec": {
   "display_name": ".venv",
   "language": "python",
   "name": "python3"
  },
  "language_info": {
   "codemirror_mode": {
    "name": "ipython",
    "version": 3
   },
   "file_extension": ".py",
   "mimetype": "text/x-python",
   "name": "python",
   "nbconvert_exporter": "python",
   "pygments_lexer": "ipython3",
   "version": "3.10.11"
  }
 },
 "nbformat": 4,
 "nbformat_minor": 5
}
